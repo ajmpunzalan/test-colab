{
  "nbformat": 4,
  "nbformat_minor": 0,
  "metadata": {
    "colab": {
      "name": "intro.ipynb",
      "provenance": [],
      "collapsed_sections": [],
      "authorship_tag": "ABX9TyNeKVJVMxCM+lFVqFSSZ8Zy",
      "include_colab_link": true
    },
    "kernelspec": {
      "name": "python3",
      "display_name": "Python 3"
    },
    "language_info": {
      "name": "python"
    }
  },
  "cells": [
    {
      "cell_type": "markdown",
      "metadata": {
        "id": "view-in-github",
        "colab_type": "text"
      },
      "source": [
        "<a href=\"https://colab.research.google.com/github/ajmpunzalan/test-colab/blob/main/intro.ipynb\" target=\"_parent\"><img src=\"https://colab.research.google.com/assets/colab-badge.svg\" alt=\"Open In Colab\"/></a>"
      ]
    },
    {
      "cell_type": "code",
      "metadata": {
        "id": "ElU4ry5rvqbR"
      },
      "source": [
        ""
      ],
      "execution_count": null,
      "outputs": []
    },
    {
      "cell_type": "markdown",
      "metadata": {
        "id": "MJHSIWGVwCrF"
      },
      "source": [
        "### Test"
      ]
    },
    {
      "cell_type": "code",
      "metadata": {
        "colab": {
          "base_uri": "https://localhost:8080/",
          "height": 35
        },
        "id": "nIXQk90PwEg4",
        "outputId": "bdb66622-b7ce-4dc5-bd0e-8fc414bb6a50"
      },
      "source": [
        "import numpy as np\n",
        "\n",
        "np.__version__\n"
      ],
      "execution_count": 4,
      "outputs": [
        {
          "output_type": "execute_result",
          "data": {
            "application/vnd.google.colaboratory.intrinsic+json": {
              "type": "string"
            },
            "text/plain": [
              "'1.19.5'"
            ]
          },
          "metadata": {},
          "execution_count": 4
        }
      ]
    },
    {
      "cell_type": "code",
      "metadata": {
        "colab": {
          "base_uri": "https://localhost:8080/"
        },
        "id": "v8KCSqUKwKUB",
        "outputId": "1449c5b8-e08b-4a49-fa37-f5af8788e50f"
      },
      "source": [
        "np.random.rand()"
      ],
      "execution_count": 7,
      "outputs": [
        {
          "output_type": "execute_result",
          "data": {
            "text/plain": [
              "0.10678338387246122"
            ]
          },
          "metadata": {},
          "execution_count": 7
        }
      ]
    },
    {
      "cell_type": "code",
      "metadata": {
        "id": "JegUXHNEwPA4"
      },
      "source": [
        "!pip install imageai\n"
      ],
      "execution_count": null,
      "outputs": []
    },
    {
      "cell_type": "code",
      "metadata": {
        "id": "BhUJZ0BkwZNl"
      },
      "source": [
        "import imageai"
      ],
      "execution_count": 1,
      "outputs": []
    },
    {
      "cell_type": "code",
      "metadata": {
        "id": "dOvKDuDXwnBO"
      },
      "source": [
        ""
      ],
      "execution_count": null,
      "outputs": []
    },
    {
      "cell_type": "markdown",
      "metadata": {
        "id": "kBBDhoTpwz94"
      },
      "source": [
        "###Markdown"
      ]
    },
    {
      "cell_type": "markdown",
      "metadata": {
        "id": "HE24t7brw5BO"
      },
      "source": [
        "Examples of *markdown*\n",
        "Examples of **markdown**\n",
        "Examples of __markdown__"
      ]
    },
    {
      "cell_type": "code",
      "metadata": {
        "colab": {
          "base_uri": "https://localhost:8080/"
        },
        "id": "PS71OJGKw1Bw",
        "outputId": "96bf3112-9c0b-4d6a-b4af-de5edde37cdf"
      },
      "source": [
        "if 1 or 0:\n",
        "  print('hi')"
      ],
      "execution_count": 3,
      "outputs": [
        {
          "output_type": "stream",
          "name": "stdout",
          "text": [
            "hi\n"
          ]
        }
      ]
    },
    {
      "cell_type": "code",
      "metadata": {
        "colab": {
          "base_uri": "https://localhost:8080/"
        },
        "id": "sTNnkS0D57JG",
        "outputId": "abe8a80a-3802-46fd-cdad-69215b53a72a"
      },
      "source": [
        "#Exercise 2\n",
        "def calculate():\n",
        "    a = 0\n",
        "    b = 1\n",
        "    sum = 0\n",
        "    while(a < 1000000):\n",
        "      if not a % 2:\n",
        "        sum += a\n",
        "      a, b = b, a + b\n",
        "    return sum\n",
        "\n",
        "print(calculate())"
      ],
      "execution_count": 12,
      "outputs": [
        {
          "output_type": "stream",
          "name": "stdout",
          "text": [
            "1089154\n"
          ]
        }
      ]
    },
    {
      "cell_type": "code",
      "metadata": {
        "colab": {
          "base_uri": "https://localhost:8080/"
        },
        "id": "dWFltnTL8S8x",
        "outputId": "6fe00b39-9083-4d4f-fe29-e515a1dcfe08"
      },
      "source": [
        "#Exercise 3\n",
        "def isPrime(n):\n",
        "    if n == 1:\n",
        "        return False\n",
        "    for i in range(2, n):\n",
        "        if not n % i:\n",
        "            return False\n",
        "    return True\n",
        "\n",
        "\n",
        "def calculate(n, arr=None):\n",
        "    arr = arr or []\n",
        "    if isPrime(n):\n",
        "      arr.append(n)\n",
        "      return arr\n",
        "\n",
        "    for i in range(2, round(n/2)+1):\n",
        "        if not n % i:\n",
        "            if isPrime(i):\n",
        "                arr.append(i)\n",
        "            else:\n",
        "                arr = calculate(i, arr)\n",
        "            if isPrime(int(n/i)):\n",
        "                arr.append(int(n/i))\n",
        "            else:\n",
        "                arr = calculate(int(n/i), arr)\n",
        "            break\n",
        "        \n",
        "    return arr\n",
        "\n",
        "print(calculate(48))"
      ],
      "execution_count": 13,
      "outputs": [
        {
          "output_type": "stream",
          "name": "stdout",
          "text": [
            "[2, 2, 2, 2, 3]\n"
          ]
        }
      ]
    },
    {
      "cell_type": "code",
      "metadata": {
        "id": "69ONrU5BeFuP",
        "outputId": "311a5132-52cc-43d0-ffd0-0af294345a33",
        "colab": {
          "base_uri": "https://localhost:8080/"
        }
      },
      "source": [
        "#Exercise 3 Solution\n",
        "def calculate(number):\n",
        "    i = 2\n",
        "    factors = []\n",
        "    while i * i <= number:\n",
        "\n",
        "        if not number % i == 0:\n",
        "            i += 1\n",
        "        else:\n",
        "            number = number // i\n",
        "            factors.append(i)\n",
        "        print(factors)\n",
        "        print(f'i - {i}')\n",
        "        print(f'number - {number}')\n",
        "    if number > 1:\n",
        "        factors.append(number)\n",
        "    return factors\n",
        "\n",
        "calculate(2)"
      ],
      "execution_count": 21,
      "outputs": [
        {
          "output_type": "execute_result",
          "data": {
            "text/plain": [
              "[2]"
            ]
          },
          "metadata": {},
          "execution_count": 21
        }
      ]
    },
    {
      "cell_type": "code",
      "metadata": {
        "id": "4vwYEzZsfhKI"
      },
      "source": [
        ""
      ],
      "execution_count": null,
      "outputs": []
    }
  ]
}